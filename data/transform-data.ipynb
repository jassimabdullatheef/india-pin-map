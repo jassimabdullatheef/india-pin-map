{
 "cells": [
  {
   "cell_type": "code",
   "execution_count": 2,
   "metadata": {},
   "outputs": [],
   "source": [
    "import pandas as pd"
   ]
  },
  {
   "cell_type": "code",
   "execution_count": 3,
   "metadata": {},
   "outputs": [],
   "source": [
    "source_file_name = './in_pincodes.txt'\n",
    "\n",
    "df = pd.read_csv(source_file_name, header=None, sep='\\t')"
   ]
  },
  {
   "cell_type": "code",
   "execution_count": 11,
   "metadata": {},
   "outputs": [
    {
     "name": "stdout",
     "output_type": "stream",
     "text": [
      "<class 'pandas.core.frame.DataFrame'>\n",
      "Int64Index: 11878 entries, 82499 to 94376\n",
      "Data columns (total 12 columns):\n",
      " #   Column        Non-Null Count  Dtype  \n",
      "---  ------        --------------  -----  \n",
      " 0   country_code  11878 non-null  object \n",
      " 1   postal_code   11878 non-null  int64  \n",
      " 2   place_name    11878 non-null  object \n",
      " 3   admin_name1   11878 non-null  object \n",
      " 4   admin_code1   11878 non-null  int64  \n",
      " 5   admin_name2   11878 non-null  object \n",
      " 6   admin_code2   0 non-null      float64\n",
      " 7   admin_name3   11554 non-null  object \n",
      " 8   admin_code3   0 non-null      float64\n",
      " 9   latitude      11878 non-null  float64\n",
      " 10  longitude     11878 non-null  float64\n",
      " 11  accuracy      11878 non-null  int64  \n",
      "dtypes: float64(4), int64(3), object(5)\n",
      "memory usage: 1.2+ MB\n"
     ]
    }
   ],
   "source": [
    "df.columns = [\"country_code\", \"postal_code\", \"place_name\", \"admin_name1\", \"admin_code1\", \"admin_name2\", \"admin_code2\", \"admin_name3\", \"admin_code3\", \"latitude\", \"longitude\", \"accuracy\"]\n",
    "\n",
    "# To group the data by states if needed to extract data for each states\n",
    "# df_group = df.groupby([\"admin_name1\"]).apply(lambda x: x.to_json(orient='records'))\n",
    "\n",
    "tn_df = df[df['admin_name1'] == \"Tamil Nadu\"]\n",
    "tn_df.info()\n",
    "\n",
    "tn_df.to_json('./tn_pincodes.json', orient=\"records\", indent=4)"
   ]
  }
 ],
 "metadata": {
  "interpreter": {
   "hash": "02fd094e203e0b6369bff2f687cd7e8e9592ea8b877b21c8538988f80cb89496"
  },
  "kernelspec": {
   "display_name": "Python 3.6.12 ('.venv': venv)",
   "language": "python",
   "name": "python3"
  },
  "language_info": {
   "codemirror_mode": {
    "name": "ipython",
    "version": 3
   },
   "file_extension": ".py",
   "mimetype": "text/x-python",
   "name": "python",
   "nbconvert_exporter": "python",
   "pygments_lexer": "ipython3",
   "version": "3.6.12"
  },
  "orig_nbformat": 4
 },
 "nbformat": 4,
 "nbformat_minor": 2
}
